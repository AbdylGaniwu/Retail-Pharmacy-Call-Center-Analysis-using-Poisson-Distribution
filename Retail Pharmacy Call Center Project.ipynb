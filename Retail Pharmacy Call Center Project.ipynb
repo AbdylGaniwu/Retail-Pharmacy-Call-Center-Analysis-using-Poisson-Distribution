{
 "cells": [
  {
   "cell_type": "markdown",
   "id": "ba79f442-d777-405e-a41d-a32ba56d4f67",
   "metadata": {},
   "source": [
    "# Retail Pharmacy Call Center Analyses using Poisson Distribution"
   ]
  },
  {
   "cell_type": "code",
   "execution_count": 175,
   "id": "d6a9342f-7651-4880-98cb-59568a0cf6bd",
   "metadata": {},
   "outputs": [],
   "source": [
    "import pandas as pd\n",
    "import numpy as np\n",
    "from scipy.stats import poisson\n",
    "import matplotlib.pyplot as plt"
   ]
  },
  {
   "cell_type": "code",
   "execution_count": null,
   "id": "3f36b8f0-cae5-4183-a26b-a084bed5a285",
   "metadata": {},
   "outputs": [],
   "source": []
  },
  {
   "cell_type": "markdown",
   "id": "a7f71f08-133b-4c6b-b244-6f930fccd2b2",
   "metadata": {},
   "source": [
    "### Load the dataset"
   ]
  },
  {
   "cell_type": "code",
   "execution_count": 158,
   "id": "4c20e697-36ac-447a-a9ff-2bf1eab7a6f5",
   "metadata": {},
   "outputs": [
    {
     "data": {
      "text/html": [
       "<div>\n",
       "<style scoped>\n",
       "    .dataframe tbody tr th:only-of-type {\n",
       "        vertical-align: middle;\n",
       "    }\n",
       "\n",
       "    .dataframe tbody tr th {\n",
       "        vertical-align: top;\n",
       "    }\n",
       "\n",
       "    .dataframe thead th {\n",
       "        text-align: right;\n",
       "    }\n",
       "</style>\n",
       "<table border=\"1\" class=\"dataframe\">\n",
       "  <thead>\n",
       "    <tr style=\"text-align: right;\">\n",
       "      <th></th>\n",
       "      <th>Year</th>\n",
       "      <th>Incoming Calls</th>\n",
       "      <th>Answered Calls</th>\n",
       "      <th>Abandoned Calls</th>\n",
       "      <th>Answer Speed (AVG)</th>\n",
       "      <th>Talk Duration (AVG)</th>\n",
       "      <th>Waiting Time (AVG)</th>\n",
       "      <th>Service Level (20 Seconds) AVG</th>\n",
       "    </tr>\n",
       "  </thead>\n",
       "  <tbody>\n",
       "    <tr>\n",
       "      <th>0</th>\n",
       "      <td>2017</td>\n",
       "      <td>217</td>\n",
       "      <td>204</td>\n",
       "      <td>13</td>\n",
       "      <td>0:00:17</td>\n",
       "      <td>0:02:14</td>\n",
       "      <td>0:02:45</td>\n",
       "      <td>0.7628</td>\n",
       "    </tr>\n",
       "    <tr>\n",
       "      <th>1</th>\n",
       "      <td>2017</td>\n",
       "      <td>200</td>\n",
       "      <td>182</td>\n",
       "      <td>18</td>\n",
       "      <td>0:00:20</td>\n",
       "      <td>0:02:22</td>\n",
       "      <td>0:06:55</td>\n",
       "      <td>0.7273</td>\n",
       "    </tr>\n",
       "    <tr>\n",
       "      <th>2</th>\n",
       "      <td>2017</td>\n",
       "      <td>216</td>\n",
       "      <td>198</td>\n",
       "      <td>18</td>\n",
       "      <td>0:00:18</td>\n",
       "      <td>0:02:38</td>\n",
       "      <td>0:03:50</td>\n",
       "      <td>0.7430</td>\n",
       "    </tr>\n",
       "    <tr>\n",
       "      <th>3</th>\n",
       "      <td>2017</td>\n",
       "      <td>155</td>\n",
       "      <td>145</td>\n",
       "      <td>10</td>\n",
       "      <td>0:00:15</td>\n",
       "      <td>0:02:29</td>\n",
       "      <td>0:03:12</td>\n",
       "      <td>0.7961</td>\n",
       "    </tr>\n",
       "    <tr>\n",
       "      <th>4</th>\n",
       "      <td>2017</td>\n",
       "      <td>37</td>\n",
       "      <td>37</td>\n",
       "      <td>0</td>\n",
       "      <td>0:00:03</td>\n",
       "      <td>0:02:06</td>\n",
       "      <td>0:00:35</td>\n",
       "      <td>0.9730</td>\n",
       "    </tr>\n",
       "  </tbody>\n",
       "</table>\n",
       "</div>"
      ],
      "text/plain": [
       "   Year  Incoming Calls  Answered Calls  Abandoned Calls Answer Speed (AVG)  \\\n",
       "0  2017             217             204               13            0:00:17   \n",
       "1  2017             200             182               18            0:00:20   \n",
       "2  2017             216             198               18            0:00:18   \n",
       "3  2017             155             145               10            0:00:15   \n",
       "4  2017              37              37                0            0:00:03   \n",
       "\n",
       "  Talk Duration (AVG) Waiting Time (AVG)  Service Level (20 Seconds) AVG  \n",
       "0             0:02:14            0:02:45                          0.7628  \n",
       "1             0:02:22            0:06:55                          0.7273  \n",
       "2             0:02:38            0:03:50                          0.7430  \n",
       "3             0:02:29            0:03:12                          0.7961  \n",
       "4             0:02:06            0:00:35                          0.9730  "
      ]
     },
     "execution_count": 158,
     "metadata": {},
     "output_type": "execute_result"
    }
   ],
   "source": [
    "df = pd.read_csv('retail_pharmacy_call_center_dataset.csv')\n",
    "\n",
    "# First 5 rows\n",
    "df.head()"
   ]
  },
  {
   "cell_type": "code",
   "execution_count": null,
   "id": "8d367500-e531-44c4-afcd-3407795c1be1",
   "metadata": {},
   "outputs": [],
   "source": []
  },
  {
   "cell_type": "code",
   "execution_count": null,
   "id": "e7f9fc59-cc92-4ca5-b4a1-59e22111c310",
   "metadata": {},
   "outputs": [],
   "source": []
  },
  {
   "cell_type": "markdown",
   "id": "15ebe15b-dc04-43cf-a0ea-c1f66175f9d1",
   "metadata": {},
   "source": [
    "# Data Assessment:"
   ]
  },
  {
   "cell_type": "markdown",
   "id": "505489b2-1d1a-44fd-bc13-1f60072c0518",
   "metadata": {},
   "source": [
    "### a) Types of Data:"
   ]
  },
  {
   "cell_type": "code",
   "execution_count": 159,
   "id": "fd7d8fe7-4a72-4b5a-9f55-117ac17476ef",
   "metadata": {
    "scrolled": true
   },
   "outputs": [
    {
     "name": "stdout",
     "output_type": "stream",
     "text": [
      "<class 'pandas.core.frame.DataFrame'>\n",
      "RangeIndex: 1251 entries, 0 to 1250\n",
      "Data columns (total 8 columns):\n",
      " #   Column                          Non-Null Count  Dtype  \n",
      "---  ------                          --------------  -----  \n",
      " 0   Year                            1251 non-null   int64  \n",
      " 1   Incoming Calls                  1251 non-null   int64  \n",
      " 2   Answered Calls                  1251 non-null   int64  \n",
      " 3   Abandoned Calls                 1251 non-null   int64  \n",
      " 4   Answer Speed (AVG)              1251 non-null   object \n",
      " 5   Talk Duration (AVG)             1251 non-null   object \n",
      " 6   Waiting Time (AVG)              1251 non-null   object \n",
      " 7   Service Level (20 Seconds) AVG  1251 non-null   float64\n",
      "dtypes: float64(1), int64(4), object(3)\n",
      "memory usage: 78.3+ KB\n"
     ]
    }
   ],
   "source": [
    "df.info()"
   ]
  },
  {
   "cell_type": "code",
   "execution_count": null,
   "id": "29627466-b76d-4443-bc28-764adae9aab1",
   "metadata": {},
   "outputs": [],
   "source": []
  },
  {
   "cell_type": "markdown",
   "id": "78005ec3-8be4-446a-832d-445bcd88ad31",
   "metadata": {},
   "source": [
    "### b) Column Names:"
   ]
  },
  {
   "cell_type": "code",
   "execution_count": 160,
   "id": "8e318572-ab09-45f5-ad17-be81b4a1e110",
   "metadata": {},
   "outputs": [
    {
     "data": {
      "text/plain": [
       "['Year',\n",
       " 'Incoming Calls',\n",
       " 'Answered Calls',\n",
       " 'Abandoned Calls',\n",
       " 'Answer Speed (AVG)',\n",
       " 'Talk Duration (AVG)',\n",
       " 'Waiting Time (AVG)',\n",
       " 'Service Level (20 Seconds) AVG']"
      ]
     },
     "execution_count": 160,
     "metadata": {},
     "output_type": "execute_result"
    }
   ],
   "source": [
    "list(df)"
   ]
  },
  {
   "cell_type": "code",
   "execution_count": null,
   "id": "307442cc-5210-4cd5-b1c6-4db47d585534",
   "metadata": {},
   "outputs": [],
   "source": []
  },
  {
   "cell_type": "markdown",
   "id": "d47a8b71-0176-4e41-992b-7e9aac7d10f1",
   "metadata": {},
   "source": [
    "### c) Total Number of Rows:"
   ]
  },
  {
   "cell_type": "code",
   "execution_count": 161,
   "id": "742153ef-b376-4e70-8998-3371fc49ff4f",
   "metadata": {},
   "outputs": [
    {
     "data": {
      "text/plain": [
       "1251"
      ]
     },
     "execution_count": 161,
     "metadata": {},
     "output_type": "execute_result"
    }
   ],
   "source": [
    "len(df)"
   ]
  },
  {
   "cell_type": "code",
   "execution_count": null,
   "id": "91643094-65f8-4120-b8d4-d093fe63dd97",
   "metadata": {},
   "outputs": [],
   "source": []
  },
  {
   "cell_type": "markdown",
   "id": "abdfef44-d83a-4407-83f1-9a717b39a5fa",
   "metadata": {},
   "source": [
    "### d) Checking for total number of missing Values:"
   ]
  },
  {
   "cell_type": "code",
   "execution_count": 174,
   "id": "aa4c12e1-4157-43a1-ab22-63cd8cade7af",
   "metadata": {},
   "outputs": [
    {
     "data": {
      "text/plain": [
       "Year                              0\n",
       "Incoming Calls                    0\n",
       "Answered Calls                    0\n",
       "Abandoned Calls                   0\n",
       "Answer Speed (AVG)                0\n",
       "Talk Duration (AVG)               0\n",
       "Waiting Time (AVG)                0\n",
       "Service Level (20 Seconds) AVG    0\n",
       "dtype: int64"
      ]
     },
     "execution_count": 174,
     "metadata": {},
     "output_type": "execute_result"
    }
   ],
   "source": [
    "df.isnull().sum()"
   ]
  },
  {
   "cell_type": "code",
   "execution_count": null,
   "id": "c2bed297-e6aa-4262-b3db-f460f6b99c5b",
   "metadata": {},
   "outputs": [],
   "source": []
  },
  {
   "cell_type": "markdown",
   "id": "bc6bf745-e0fd-46a1-8fab-3c610a9ba361",
   "metadata": {},
   "source": [
    "### e) Checking for total number of duplicate rows:"
   ]
  },
  {
   "cell_type": "code",
   "execution_count": 163,
   "id": "f9844de9-8d43-41f2-8483-4d91ca9c67ea",
   "metadata": {},
   "outputs": [
    {
     "data": {
      "text/plain": [
       "0"
      ]
     },
     "execution_count": 163,
     "metadata": {},
     "output_type": "execute_result"
    }
   ],
   "source": [
    "df.duplicated().sum()"
   ]
  },
  {
   "cell_type": "code",
   "execution_count": null,
   "id": "8663135c-8a3a-4eb2-b099-bbb30d33e190",
   "metadata": {},
   "outputs": [],
   "source": []
  },
  {
   "cell_type": "code",
   "execution_count": null,
   "id": "2bd5002a-30a4-47d3-ba4a-49507dc25934",
   "metadata": {},
   "outputs": [],
   "source": []
  },
  {
   "cell_type": "markdown",
   "id": "352c7277-22db-479f-ad08-3ebf72088483",
   "metadata": {},
   "source": [
    "# Analyzing Data Using Poisson Distribution"
   ]
  },
  {
   "cell_type": "markdown",
   "id": "67c81f3d-ba70-4788-ab3f-12b99d9bc0cd",
   "metadata": {},
   "source": [
    "#### Explanation:\n",
    "#### The `Poisson distribution` is suitable for modeling the number of events occurring within a fixed time interval. Given that the data includes yearly metrics, we can use the Poisson distribution to analyze the number of incoming calls, answered calls,and potentially other metrics."
   ]
  },
  {
   "cell_type": "code",
   "execution_count": null,
   "id": "10e000d4-e657-4324-8788-98b399c1e3c5",
   "metadata": {},
   "outputs": [],
   "source": []
  },
  {
   "cell_type": "markdown",
   "id": "5560276e-ed49-42e2-8073-fa73f4cedaf9",
   "metadata": {},
   "source": [
    "## Questions 1: What is the average number of incoming calls?"
   ]
  },
  {
   "cell_type": "markdown",
   "id": "96c86564-c9f7-4a25-b498-31416391a8d9",
   "metadata": {},
   "source": [
    "#### Note: Mean of `Incoming Calls` to be used as λ (rate) for Poisson distribution"
   ]
  },
  {
   "cell_type": "code",
   "execution_count": 164,
   "id": "3ff8d3c0-fd79-45bc-9719-f410e41c5d83",
   "metadata": {},
   "outputs": [
    {
     "name": "stdout",
     "output_type": "stream",
     "text": [
      "Average Incoming Calls: 198.54\n"
     ]
    }
   ],
   "source": [
    "avg_incoming_calls = df['Incoming Calls'].mean()\n",
    "print(f'Average Incoming Calls: {avg_incoming_calls:.2f}')"
   ]
  },
  {
   "cell_type": "code",
   "execution_count": null,
   "id": "586b33c6-75c5-478f-99d7-637b408339ab",
   "metadata": {},
   "outputs": [],
   "source": []
  },
  {
   "cell_type": "code",
   "execution_count": null,
   "id": "06d9abc9-e14c-49e3-98b2-b471cef0abf3",
   "metadata": {},
   "outputs": [],
   "source": []
  },
  {
   "cell_type": "markdown",
   "id": "a9726053-7bbe-4daf-a2c9-18e9a0c6f402",
   "metadata": {},
   "source": [
    "### Generating a Poisson distribution using the Average and compare it with the actual data."
   ]
  },
  {
   "cell_type": "code",
   "execution_count": 165,
   "id": "715306f0-424e-430c-852b-dc9e48d2e430",
   "metadata": {},
   "outputs": [
    {
     "data": {
      "text/plain": [
       "array([5.96157522e-87, 1.18360857e-84, 1.17496567e-82, ...,\n",
       "       0.00000000e+00, 0.00000000e+00, 0.00000000e+00])"
      ]
     },
     "execution_count": 165,
     "metadata": {},
     "output_type": "execute_result"
    }
   ],
   "source": [
    "poisson_dist = poisson.pmf(np.arange(0, df['Incoming Calls'].max()), avg_incoming_calls)\n",
    "poisson_dist"
   ]
  },
  {
   "cell_type": "code",
   "execution_count": null,
   "id": "b497e061-2510-4e4b-b2b8-4c517b0709c5",
   "metadata": {},
   "outputs": [],
   "source": []
  },
  {
   "cell_type": "markdown",
   "id": "344b0311-c40a-48e4-b288-2ad7a9ca4cdb",
   "metadata": {},
   "source": [
    "## Plot the distribution"
   ]
  },
  {
   "cell_type": "markdown",
   "id": "27d87b03-ebc8-4148-b708-dc3554253125",
   "metadata": {},
   "source": [
    "### Plot actual data vs Poisson distribution:"
   ]
  },
  {
   "cell_type": "code",
   "execution_count": 166,
   "id": "70f51c61-9896-4180-99a3-dbcee855c255",
   "metadata": {},
   "outputs": [
    {
     "data": {
      "image/png": "[encoded data removed]",
      "text/plain": [
       "<Figure size 640x480 with 1 Axes>"
      ]
     },
     "metadata": {},
     "output_type": "display_data"
    }
   ],
   "source": [
    "plt.hist(df['Incoming Calls'], bins=30, density=True, alpha=0.6, color='g', label='Actual Incoming Calls')\n",
    "plt.plot(np.arange(0, df['Incoming Calls'].max()), poisson_dist, 'b-', label='Poisson Distribution')\n",
    "plt.title('Incoming Calls vs Poisson Distribution')\n",
    "plt.xlabel('Number of Incoming Calls')\n",
    "plt.ylabel('Probability')\n",
    "plt.legend()\n",
    "plt.show()"
   ]
  },
  {
   "cell_type": "markdown",
   "id": "44569f0d-cb6e-4848-b403-ff98b7e56ff3",
   "metadata": {},
   "source": [
    "### Interpretation:\n",
    "#### The graph you provided compares the actual distribution of `incoming calls` to a theoretical Poisson distribution.\n",
    "#### a) Incoming Calls: The shape of the histogram reveals that the distribution is skewed to the right, with a few days having significantly higher call volumes than most.\n",
    "#### b) Poisson Distribution: The blue line represents the theoretical Poisson distribution, fitted to the data using the average number of incoming calls. It provides a probability distribution based on the assumption that incoming calls occur randomly and independently at a constant rate.\n",
    "#### c) The observed distribution has a heavier tail on the right side compared to the Poisson distribution. This suggests that there might be additional factors influencing the incoming calls beyond a purely random Poisson process.\n",
    "\n",
    "#### Possible Explanations:\n",
    "#### Day-to-day variation: The number of incoming calls might not be strictly constant over time, leading to deviations from the Poisson distribution.\n",
    "#### Seasonal effects: Certain times of the year might have consistently higher or lower call volumes. \n",
    "#### External factors: Events or promotions could influence the number of incoming calls."
   ]
  },
  {
   "cell_type": "code",
   "execution_count": null,
   "id": "0ed65e73-a4c0-41a7-b155-ba45092e1eac",
   "metadata": {},
   "outputs": [],
   "source": []
  },
  {
   "cell_type": "code",
   "execution_count": null,
   "id": "564d413d-fd67-4c2c-a78b-d6570907bbae",
   "metadata": {},
   "outputs": [],
   "source": []
  },
  {
   "cell_type": "markdown",
   "id": "5835ceaa-b047-494f-8546-ca9d06deb947",
   "metadata": {},
   "source": [
    "### Question 2: What is the probability of receiving a certain number of calls in a year?"
   ]
  },
  {
   "cell_type": "code",
   "execution_count": 167,
   "id": "9e3a7050-8a04-4662-866a-1204f760a215",
   "metadata": {},
   "outputs": [
    {
     "name": "stdout",
     "output_type": "stream",
     "text": [
      "The probability of receiving exactly 1000 calls in a year: 0.0\n"
     ]
    }
   ],
   "source": [
    "# Probability of receiving exactly 1000 calls in a Year\n",
    "calls = 1000\n",
    "probability_2000_calls = poisson.pmf(calls, avg_incoming_calls)\n",
    "print(f'The probability of receiving exactly {calls} calls in a year: {probability_2000_calls}')"
   ]
  },
  {
   "cell_type": "code",
   "execution_count": null,
   "id": "62c693c2-cf60-478f-b3f4-d71be915b5f0",
   "metadata": {},
   "outputs": [],
   "source": []
  },
  {
   "cell_type": "code",
   "execution_count": null,
   "id": "13f10b57-ad98-4ee1-9238-7e47a8a2b58c",
   "metadata": {},
   "outputs": [],
   "source": []
  },
  {
   "cell_type": "markdown",
   "id": "4f81c307-5bb3-4cfd-bfae-76b8237249f4",
   "metadata": {},
   "source": [
    "### Question 3: What is the probability of receiving more than 1500 calls in a year?"
   ]
  },
  {
   "cell_type": "code",
   "execution_count": 169,
   "id": "040b7a88-6af0-48ad-b332-c077211e3263",
   "metadata": {},
   "outputs": [
    {
     "name": "stdout",
     "output_type": "stream",
     "text": [
      "The probability of receiving more than 1500 calls in a year: 0.0\n"
     ]
    }
   ],
   "source": [
    "calls = 1500\n",
    "probability_more_than_2500 = 1 - poisson.cdf(calls, avg_incoming_calls)\n",
    "print(f'The probability of receiving more than {calls} calls in a year: {probability_more_than_2500}')"
   ]
  },
  {
   "cell_type": "code",
   "execution_count": null,
   "id": "8216ee12-bba2-4108-8490-40c691938d04",
   "metadata": {},
   "outputs": [],
   "source": []
  },
  {
   "cell_type": "code",
   "execution_count": null,
   "id": "70483c76-f77d-41f4-8eb9-34a522849bc3",
   "metadata": {},
   "outputs": [],
   "source": []
  },
  {
   "cell_type": "markdown",
   "id": "9b7830c3-b797-4f9a-bc75-eb1388bdd1d9",
   "metadata": {},
   "source": [
    "### Question 4: Are the average `Incoming calls` correlated with the number of `Answered Calls`?"
   ]
  },
  {
   "cell_type": "code",
   "execution_count": 170,
   "id": "969ab95b-7d98-44d2-9e79-f6d899feec13",
   "metadata": {},
   "outputs": [
    {
     "name": "stdout",
     "output_type": "stream",
     "text": [
      "Correlation between Incoming Calls and Waiting Time (AVG): 0.95\n"
     ]
    }
   ],
   "source": [
    "# Correlation between Incoming Calls and Answered Calls\n",
    "correlation = df['Incoming Calls'].corr(df['Answered Calls'])\n",
    "print(f'Correlation between Incoming Calls and Waiting Time (AVG): {correlation:.2f}')"
   ]
  },
  {
   "cell_type": "markdown",
   "id": "f0bc1da0-e65b-4967-948e-e842c36255a5",
   "metadata": {},
   "source": [
    "#### Explaning:\n",
    "#### This indicates a strong positive correlation between `incoming calls` and `answered calls`. \n",
    "#### A correlation coefficient of `0.95` suggests that as the number of `incoming calls` increases, the number of `answered calls` also tends to increase in a similar proportion."
   ]
  },
  {
   "cell_type": "code",
   "execution_count": null,
   "id": "ae2e43f3-5ca2-4643-ae35-a5ee16af6988",
   "metadata": {},
   "outputs": [],
   "source": []
  },
  {
   "cell_type": "code",
   "execution_count": null,
   "id": "f513f8bc-1247-4ffc-ad36-dcc3fbe121b3",
   "metadata": {},
   "outputs": [],
   "source": []
  },
  {
   "cell_type": "markdown",
   "id": "a0073baa-2d0a-4e6e-835a-6bd8f2e12059",
   "metadata": {},
   "source": [
    "### Question 5: What is the `Service level` over time, and how does it relate to `Incoming calls`?"
   ]
  },
  {
   "cell_type": "code",
   "execution_count": 171,
   "id": "7189d081-e7bf-4e2a-a593-1c5379292617",
   "metadata": {},
   "outputs": [
    {
     "data": {
      "image/png": "[encoded data removed]",
      "text/plain": [
       "<Figure size 640x480 with 1 Axes>"
      ]
     },
     "metadata": {},
     "output_type": "display_data"
    }
   ],
   "source": [
    "# Plot Service Level over time:\n",
    "df.plot(x='Year', y='Service Level (20 Seconds) AVG', kind='line', title='Service Level Over Time')\n",
    "plt.ylabel('Service Level (20 Seconds)')\n",
    "plt.show()"
   ]
  },
  {
   "cell_type": "markdown",
   "id": "cb7b747d-1c28-4a23-a202-e9b9ee1282c4",
   "metadata": {},
   "source": [
    "### Explanation:\n",
    "#### The plot shows the percentage of calls answered within 20 seconds. Here are the key observations:\n",
    "#### Overall Trend: The service level fluctuates over the years. There is a general upward trend from 2017 to 2020, followed by a decline in 2021 and then an increase in 2022 and 2023.\n",
    "#### 2017: The service level starts at a relatively high point.\n",
    "#### 2018-2019: There is a slight decrease in the service level.\n",
    "#### 2020: The service level drops significantly.\n",
    "#### 2021: The service level remains low.\n",
    "#### 2022-2023: There is a significant improvement in the service level, reaching its highest point in 2023.\n",
    "#### Possible Explanations: Changes in staffing or resources, Seasonal variations, Operational changes (call center processes changes or new policies)\n",
    "\n",
    "### Further Analysis: Correlate `Incoming Calls` and `Service Level`, Solved Below:"
   ]
  },
  {
   "cell_type": "code",
   "execution_count": null,
   "id": "46ff72e3-6a6d-4cd9-a8d2-d16f7412424b",
   "metadata": {},
   "outputs": [],
   "source": []
  },
  {
   "cell_type": "markdown",
   "id": "65395f61-b3ff-4c2e-a303-f6f5b1b5cb79",
   "metadata": {},
   "source": [
    "### Correlation between `Incoming Calls` and `Service Level`:"
   ]
  },
  {
   "cell_type": "code",
   "execution_count": 172,
   "id": "52c68910-7bd2-450d-9c38-76072326c32e",
   "metadata": {},
   "outputs": [
    {
     "name": "stdout",
     "output_type": "stream",
     "text": [
      "Correlation between Incoming Calls and Service Level (20 Seconds): -0.49\n"
     ]
    }
   ],
   "source": [
    "# How service level (calls answered within 20 seconds) changes over time, especially as the number of incoming calls fluctuates.\n",
    "service_level_correlation = df['Incoming Calls'].corr(df['Service Level (20 Seconds) AVG'])\n",
    "print(f'Correlation between Incoming Calls and Service Level (20 Seconds): {service_level_correlation:.2f}')"
   ]
  },
  {
   "cell_type": "markdown",
   "id": "16e17de4-4956-412a-b5a4-0720e65f00be",
   "metadata": {},
   "source": [
    "### Explanation:\n",
    "#### The correlation coefficient measures the strength and direction of the linear relationship between `Incoming Calls` and `Service level`.\n",
    "#### a) This indicates a negative correlation between`incoming calls` and `service level`. A correlation coefficient of `-0.49` suggests that as the number of `incoming calls` increases, the `service level` tends to decrease. In other words, when there are more incoming calls, a lower percentage of calls are answered within 20 seconds.\n",
    "#### b) This finding might imply that the call center is struggling to handle increased call volumes, leading to longer wait times and a decrease in service level."
   ]
  },
  {
   "cell_type": "code",
   "execution_count": null,
   "id": "b9668e9c-db56-4cae-a1ea-503ee964c38b",
   "metadata": {},
   "outputs": [],
   "source": []
  },
  {
   "cell_type": "code",
   "execution_count": null,
   "id": "ba02db22-08c0-46ef-b436-26b52548de76",
   "metadata": {},
   "outputs": [],
   "source": []
  }
 ],
 "metadata": {
  "kernelspec": {
   "display_name": "Python 3 (ipykernel)",
   "language": "python",
   "name": "python3"
  },
  "language_info": {
   "codemirror_mode": {
    "name": "ipython",
    "version": 3
   },
   "file_extension": ".py",
   "mimetype": "text/x-python",
   "name": "python",
   "nbconvert_exporter": "python",
   "pygments_lexer": "ipython3",
   "version": "3.12.3"
  }
 },
 "nbformat": 4,
 "nbformat_minor": 5
}
